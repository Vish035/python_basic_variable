{
 "cells": [
  {
   "cell_type": "code",
   "execution_count": 1,
   "id": "33abd3e3-681c-4679-96b0-bb47009a34e4",
   "metadata": {},
   "outputs": [],
   "source": [
    "#python basic variable\n",
    "\n",
    "x=100\n",
    "y=50"
   ]
  },
  {
   "cell_type": "code",
   "execution_count": 2,
   "id": "86852589-c958-4046-9788-a738d696fe40",
   "metadata": {},
   "outputs": [],
   "source": [
    "x=x+y\n",
    "y=x-y\n",
    "x=x-y"
   ]
  },
  {
   "cell_type": "code",
   "execution_count": 3,
   "id": "917f15b1-7985-4304-b61d-ce876f110aca",
   "metadata": {},
   "outputs": [
    {
     "data": {
      "text/plain": [
       "50"
      ]
     },
     "execution_count": 3,
     "metadata": {},
     "output_type": "execute_result"
    }
   ],
   "source": [
    "x"
   ]
  },
  {
   "cell_type": "code",
   "execution_count": 4,
   "id": "afc491c5-6bb0-46e9-a3a9-80e9013ff838",
   "metadata": {},
   "outputs": [
    {
     "data": {
      "text/plain": [
       "100"
      ]
     },
     "execution_count": 4,
     "metadata": {},
     "output_type": "execute_result"
    }
   ],
   "source": [
    "y"
   ]
  },
  {
   "cell_type": "code",
   "execution_count": 5,
   "id": "77ac6fd9-f70e-4c8f-a00e-80f326b833a3",
   "metadata": {},
   "outputs": [],
   "source": [
    "lenghth = 10\n",
    "breadth = 10"
   ]
  },
  {
   "cell_type": "code",
   "execution_count": 6,
   "id": "eb2f7ad3-a91d-43ca-8c31-05991fd3e6a0",
   "metadata": {},
   "outputs": [
    {
     "data": {
      "text/plain": [
       "100"
      ]
     },
     "execution_count": 6,
     "metadata": {},
     "output_type": "execute_result"
    }
   ],
   "source": [
    "lenghth * breadth"
   ]
  },
  {
   "cell_type": "code",
   "execution_count": 1,
   "id": "f552d3ca-2b46-4900-ba2f-3f8e0f41b8cf",
   "metadata": {},
   "outputs": [
    {
     "name": "stdin",
     "output_type": "stream",
     "text": [
      "length: 100\n",
      "breadth: 100\n"
     ]
    },
    {
     "name": "stdout",
     "output_type": "stream",
     "text": [
      "area : 10000\n"
     ]
    }
   ],
   "source": [
    "length =  int(input('length:'))\n",
    "breadth = int(input('breadth:'))\n",
    "\n",
    "area = length * breadth\n",
    "\n",
    "print(\"area :\", area)"
   ]
  },
  {
   "cell_type": "code",
   "execution_count": 9,
   "id": "ea35a628-a57a-48e5-afbf-03ce3f998c74",
   "metadata": {},
   "outputs": [
    {
     "name": "stdin",
     "output_type": "stream",
     "text": [
      "degree celcius: 100\n"
     ]
    },
    {
     "name": "stdout",
     "output_type": "stream",
     "text": [
      "fahrenheit :  212.0\n"
     ]
    }
   ],
   "source": [
    "celcius = int(input('degree celcius:'))\n",
    "celcius_to_fahrenheit = celcius*9/5+32\n",
    "fahrenheit = celcius_to_fahrenheit\n",
    "\n",
    "print('fahrenheit : ', fahrenheit )"
   ]
  },
  {
   "cell_type": "code",
   "execution_count": 6,
   "id": "0d6db2df-afd6-4413-808c-13e4b9518591",
   "metadata": {},
   "outputs": [
    {
     "name": "stdin",
     "output_type": "stream",
     "text": [
      "value vishwajeet\n"
     ]
    },
    {
     "name": "stdout",
     "output_type": "stream",
     "text": [
      "lenght of string:  10\n"
     ]
    }
   ],
   "source": [
    "#string based questions\n",
    "\n",
    "user_input = input('value')\n",
    "\n",
    "length_of_string = len(user_input)\n",
    "\n",
    "print('lenght of string: ', length_of_string)"
   ]
  },
  {
   "cell_type": "code",
   "execution_count": 1,
   "id": "d97ec439-35eb-4ea5-a51a-31baf335e1ea",
   "metadata": {},
   "outputs": [],
   "source": [
    "a = 'vishwajeet'"
   ]
  },
  {
   "cell_type": "code",
   "execution_count": 3,
   "id": "45314541-5762-4afe-bdc2-3829751fedf3",
   "metadata": {},
   "outputs": [
    {
     "data": {
      "text/plain": [
       "'teejawhsiv'"
      ]
     },
     "execution_count": 3,
     "metadata": {},
     "output_type": "execute_result"
    }
   ],
   "source": [
    "a[::-1]"
   ]
  },
  {
   "cell_type": "code",
   "execution_count": 6,
   "id": "47c0daa4-e9cc-48a4-a043-899f234583c1",
   "metadata": {},
   "outputs": [],
   "source": [
    "a1 = 'v i s h w a j e e t'"
   ]
  },
  {
   "cell_type": "code",
   "execution_count": 9,
   "id": "9cec4eee-b182-4836-8f78-b51644695717",
   "metadata": {},
   "outputs": [
    {
     "data": {
      "text/plain": [
       "'vishwajeet'"
      ]
     },
     "execution_count": 9,
     "metadata": {},
     "output_type": "execute_result"
    }
   ],
   "source": [
    "a1[0:20:2]"
   ]
  },
  {
   "cell_type": "code",
   "execution_count": null,
   "id": "d3ac9a27-f9d8-4553-a64f-d293fe4fde6f",
   "metadata": {},
   "outputs": [],
   "source": []
  }
 ],
 "metadata": {
  "kernelspec": {
   "display_name": "Python 3 (ipykernel)",
   "language": "python",
   "name": "python3"
  },
  "language_info": {
   "codemirror_mode": {
    "name": "ipython",
    "version": 3
   },
   "file_extension": ".py",
   "mimetype": "text/x-python",
   "name": "python",
   "nbconvert_exporter": "python",
   "pygments_lexer": "ipython3",
   "version": "3.10.8"
  }
 },
 "nbformat": 4,
 "nbformat_minor": 5
}
